{
 "cells": [
  {
   "cell_type": "markdown",
   "id": "74f93e09-d4ba-4695-8f0e-d7c8178630ef",
   "metadata": {},
   "source": [
    "# Making a playground\n",
    "## Fetching information\n",
    "In order to test the performance of the stock bot, you'll need to make a playground for it to test recent data. Off the top of my head, one way to do this is by running a real-time script that periodically fetches current stock information from an API of your choice(I would choose yfinance and throttle the fetch frequency). Find a way to run a script that takes in a portfolio of stocks, a sampling interval, and returns a portfolio of current prices.\n",
    "\n",
    "## Buying and selling\n",
    "Once you have recent stock information, you can trial the stock bot by designing an algorithm that uses the predicted information to evaluate future prices. An example of such an algorithm might be:\n",
    "\n",
    "if predicts_increase(\"NVDA\"):<br>\n",
    "    buy(\"NVDA\")<br>\n",
    "elif predicts_decrease(\"NVDA\"):<br>\n",
    "    sell(\"NVDA\")<br>\n",
    "    \n",
    "Your inputs would be current stock data, the model prediction, and previous prices. Your output would be a decision, i.e. buy, sell, hold, etc. Use your business acumen to determine what the best algorithm would be."
   ]
  },
  {
   "cell_type": "code",
   "execution_count": null,
   "id": "3a8ade48-7914-4538-96a3-de52e7d91355",
   "metadata": {},
   "outputs": [],
   "source": []
  }
 ],
 "metadata": {
  "kernelspec": {
   "display_name": "Python 3 (ipykernel)",
   "language": "python",
   "name": "python3"
  },
  "language_info": {
   "codemirror_mode": {
    "name": "ipython",
    "version": 3
   },
   "file_extension": ".py",
   "mimetype": "text/x-python",
   "name": "python",
   "nbconvert_exporter": "python",
   "pygments_lexer": "ipython3",
   "version": "3.9.18"
  }
 },
 "nbformat": 4,
 "nbformat_minor": 5
}
