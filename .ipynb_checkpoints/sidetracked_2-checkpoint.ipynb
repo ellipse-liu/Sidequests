{
 "cells": [
  {
   "cell_type": "markdown",
   "id": "9762bf0c-854b-4d1d-a0f5-44a62e057577",
   "metadata": {},
   "source": [
    "# Map Folding Algorithm\n",
    "Given a pre-folded map, with valley and hill folds in it, can you figure out what the fold order is just by looking?\n",
    "\n",
    "For the sake of simplicity, we will set rules for the folder:\n",
    "1. Only edge-to-edge folds that bisect the paper are allowed. (I realize this makes the problem trivial in real life because a paper can only be folded in half so many times, but it'll still be fun to do.)\n",
    "2. No undoing folds."
   ]
  },
  {
   "cell_type": "markdown",
   "id": "89067b87-b715-4dd6-8e7f-1e726b6a1e8f",
   "metadata": {},
   "source": [
    "# How to actually epresent the map in code\n",
    "I want to treat the map as a graph, where each point that two creases meet is a node. THe only exception is a corner of the map; it is consider a node by default.\n",
    "\n",
    "We'll need two adjacency matrices to fully represent the map. One for storing creases between points, and another for tracking what points are atop of each other during the step."
   ]
  },
  {
   "cell_type": "code",
   "execution_count": null,
   "id": "b26a8898-8f75-4bb4-b86e-ef605c046fde",
   "metadata": {},
   "outputs": [],
   "source": [
    "import numpy as np\n",
    "\n",
    "map = "
   ]
  }
 ],
 "metadata": {
  "kernelspec": {
   "display_name": "laptop_sketchbook",
   "language": "python",
   "name": "laptop_sketchbook"
  },
  "language_info": {
   "codemirror_mode": {
    "name": "ipython",
    "version": 3
   },
   "file_extension": ".py",
   "mimetype": "text/x-python",
   "name": "python",
   "nbconvert_exporter": "python",
   "pygments_lexer": "ipython3",
   "version": "3.7.16"
  }
 },
 "nbformat": 4,
 "nbformat_minor": 5
}
