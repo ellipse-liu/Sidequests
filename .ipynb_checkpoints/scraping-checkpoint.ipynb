{
 "cells": [
  {
   "cell_type": "markdown",
   "id": "cf593939-005e-42cc-a736-16d72068294e",
   "metadata": {},
   "source": [
    "# Buffooning around with stock information\n",
    "I have a half-baked idea brewing: something-something-stockbot blah-bleh-blah-bluh-language model. Anyways, I know that I need to at least start with pulling news articles from yahoo finance, so I'm going to do that. I need to draw and pull a few things at the least: the article title, article publish data/time. and what stocks the article is relevant to."
   ]
  },
  {
   "cell_type": "code",
   "execution_count": 1,
   "id": "2f57d3e3-6363-4f92-964f-365560e28d8d",
   "metadata": {},
   "outputs": [],
   "source": [
    "# import required packages\n",
    "from bs4 import BeautifulSoup # beautiful soup for actually scraping and grabbing the data"
   ]
  },
  {
   "cell_type": "code",
   "execution_count": 2,
   "id": "ff76e464-fc43-405e-be1a-d6cc1916e0c4",
   "metadata": {},
   "outputs": [],
   "source": [
    "# defining parameters and links\n",
    "\n",
    "master_link = \"https://finance.yahoo.com/topic/stock-market-news/\" # pull from this meaty fellow here\n",
    "\n",
    "scraped_dict = {} # storing pulled articles under {article-title: article-info} for now, where article info is another dict with specific labels"
   ]
  },
  {
   "cell_type": "code",
   "execution_count": null,
   "id": "fc76911d-0a76-4503-a50c-72afeb264349",
   "metadata": {},
   "outputs": [],
   "source": []
  }
 ],
 "metadata": {
  "kernelspec": {
   "display_name": "laptop_sketchbook",
   "language": "python",
   "name": "laptop_sketchbook"
  },
  "language_info": {
   "codemirror_mode": {
    "name": "ipython",
    "version": 3
   },
   "file_extension": ".py",
   "mimetype": "text/x-python",
   "name": "python",
   "nbconvert_exporter": "python",
   "pygments_lexer": "ipython3",
   "version": "3.7.16"
  }
 },
 "nbformat": 4,
 "nbformat_minor": 5
}
